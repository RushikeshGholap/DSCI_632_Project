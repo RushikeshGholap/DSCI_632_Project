{
  "cells": [
    {
      "cell_type": "markdown",
      "metadata": {
        "application/vnd.databricks.v1+cell": {
          "cellMetadata": {},
          "inputWidgets": {},
          "nuid": "d72d6822-b729-4025-a1ca-fd5cb5f2787b",
          "showTitle": false,
          "title": ""
        },
        "id": "XNwBhCh5_fcM"
      },
      "source": [
        "# DSCI 632 Final\n",
        "## Rushikesh Bhavesh Gholap\n",
        "## rg954@drexel.edu\n",
        "## 14657883\n",
        "Your final is to use the dataset of your choice and the techniques in this class to do the following:\n",
        "\n",
        "1. Define and describe the dataset (10 points)\n",
        "1. Clean the data (10 points)\n",
        "1. Transform the clean data (10 points)\n",
        "1. Show your analysis of the data (10 points)"
      ]
    },
    {
      "cell_type": "markdown",
      "metadata": {
        "application/vnd.databricks.v1+cell": {
          "cellMetadata": {},
          "inputWidgets": {},
          "nuid": "41094b10-f06a-40d5-9f12-b95421d22b0b",
          "showTitle": false,
          "title": ""
        },
        "id": "aZL-vts6Fyji"
      },
      "source": [
        "## Ground Rules\n",
        "\n",
        "1. Explain everything you're doing with pyspark in the code cells using [markdown](https://www.markdownguide.org/cheat-sheet) in text cells. Help the reader understand why you're doing each step so they can re-create it. Remember, this is an assignment to show how you analyze data to a potential employer. Don't use code comments to explain things.\n",
        "1. All of the sections are heading 1 in markdown, so use heading 2 to write your explainations, and heading 3 for any sub-headers. Check in your table of contents view in colab to make sure each point is listed before you turn this in.\n",
        "1. Don't hesisate to use multiple code/text cells in each section, as long as they're all labeled and described.\n",
        "1. Assume that the reader doesn't have access to the dataset on your local machine. Provide a link to the dataset you're using, or if able, include code to copy it from a public source. Don't rely on uploading from your local machine. (Importing from Google Drive is ok, as long as you provide the link to the data)\n",
        "1. If using GCP services, include screenshots from your console if there's a step that you aren't able to re-produce in code. Using the SDK is always preferred, but you won't lose points for using screenshots and explaining them.\n",
        "1. Import the data ONCE, then transform it to fit your analysis.\n",
        "1. Don't overwrite data, make new columns for new transformations. You can always drop columns later, but you can't get overwritten values back.\n",
        "1. Feel free to work with classmates, but all work submitted must be your own.\n",
        "1. Make sure to run disconnect the runtime and re-run the notebook at least once before turning in. If you are getting certain Java runtime errors, this might also help."
      ]
    },
    {
      "cell_type": "markdown",
      "metadata": {
        "application/vnd.databricks.v1+cell": {
          "cellMetadata": {},
          "inputWidgets": {},
          "nuid": "9f7f2b0c-4103-4675-8d59-4f45428b39b5",
          "showTitle": false,
          "title": ""
        },
        "id": "o92jEFUiQDLu"
      },
      "source": [
        "## Extra Credit Opportunities!\n",
        "\n",
        "- If you provide a link to this notebook on your public GitHub page instead of turning it in as an attachment, you will get 2 points extra credit.\n",
        "- Extra credit will be given for using the [Google Cloud SDK](https://cloud.google.com/sdk/) to create/use/destroy any cloud resources, up to 2 points per section, 8 points total.\n",
        " - Don't be afraid to look at the GCP example colab notebooks from the class notes, the GCP documentation, or GitHub for examples.\n",
        "- If this notebook is self-contained, you will get 5 points extra credit. (Requirements below)\n",
        " - The data is imported without relying on Google Drive, as the paths to data in Google Drive are user-specific. Downloads from public storage buckets/services are fine. (1 point)\n",
        " - It be run from start to finish without making any changes to paths, code, or variable names. (1 point)\n",
        " - All calls to external services, including GCP, are done programatically, no screenshots explaining how it worked in a browser console. (Using an API or SDK, 2 points)\n",
        " - All cloud resources are destroyed at the end of the notebook in a seperate section (Also via API or SDK, 1 point)"
      ]
    },
    {
      "cell_type": "markdown",
      "metadata": {
        "application/vnd.databricks.v1+cell": {
          "cellMetadata": {},
          "inputWidgets": {},
          "nuid": "048b42bd-8112-4f0f-8f6d-87e70c45b662",
          "showTitle": false,
          "title": ""
        },
        "id": "rlYD5Go09y1Q"
      },
      "source": [
        "# Section 1: Define and describe the dataset\n",
        "\n",
        "10 points\n",
        "\n",
        "Import the dataset, and describe why you'll be analyzing in it. You can summarize a few columns, show a more information on the relavent features, or but help the reader understand what the dataset is, what is in it, and why you picked it.\n",
        "\n",
        "Some questions that it might help you to answer:\n",
        "1. Why are you choosing this dataset?\n",
        "1. What variables will you use?\n",
        "1. What analysis(es) will you run?\n",
        "1. Do you have any hypotheses? What are they?\n",
        "\n",
        "### This section should include one or more of the following:\n",
        "- A histogram of several features relavent to your analysis\n",
        "- The schema of the dataset, with the datatypes assigned correctly\n",
        "- A text cell with explainations of the relavent features in [markdown](https://www.markdownguide.org/cheat-sheet)\n",
        "- Use Spark SQL or built-in methods to show a range of values\n",
        "- Most common words/n-grams found"
      ]
    },
    {
      "cell_type": "markdown",
      "source": [
        "**Installation of Pyspark for collab**\n"
      ],
      "metadata": {
        "id": "xsyrcPwLhDjs"
      }
    },
    {
      "cell_type": "code",
      "source": [
        "# Install Spark 3.5.0\n",
        "!apt-get install openjdk-8-jdk-headless -qq > /dev/null\n",
        "!wget -q https://archive.apache.org/dist/spark/spark-3.5.0/spark-3.5.0-bin-hadoop3.tgz\n",
        "!tar xf spark-3.5.0-bin-hadoop3.tgz\n",
        "\n",
        "# Set Environment Variables\n",
        "import os\n",
        "os.environ[\"JAVA_HOME\"] = \"/usr/lib/jvm/java-8-openjdk-amd64\"\n",
        "os.environ[\"SPARK_HOME\"] = \"/content/spark-3.5.0-bin-hadoop3\"\n",
        "\n",
        "# Install Findspark\n",
        "!pip install -q findspark\n",
        "\n",
        "import findspark\n",
        "findspark.init()\n",
        "\n"
      ],
      "metadata": {
        "id": "CIWfqJuNgWFV"
      },
      "execution_count": 1,
      "outputs": []
    },
    {
      "cell_type": "code",
      "execution_count": 2,
      "metadata": {
        "application/vnd.databricks.v1+cell": {
          "cellMetadata": {
            "byteLimit": 2048000,
            "rowLimit": 10000
          },
          "inputWidgets": {},
          "nuid": "8ee7126c-13a9-4503-b688-af9c8180eced",
          "showTitle": false,
          "title": ""
        },
        "id": "RGKfUN4g-wgJ"
      },
      "outputs": [],
      "source": [
        "from pyspark.sql import SparkSession\n",
        "\n",
        "spark = SparkSession.builder.appName(\"RG_PROJECT\").getOrCreate()\n"
      ]
    },
    {
      "cell_type": "markdown",
      "source": [
        "**Loading Dataset**\n",
        "\n",
        "**Info about Data:**\n",
        "\n",
        "The **diabetes_prediction_dataset.csv** file contains medical and demographic data of patients along with their diabetes status, whether positive or negative. It consists of various features such as age, gender, body mass index (BMI), hypertension, heart disease, smoking history, HbA1c level, and blood glucose level. The Dataset can be utilized to construct machine learning models that can predict the likelihood of diabetes in patients based on their medical history and demographic details.\n",
        "\n",
        "Why this data? ▶\n",
        "\n",
        "1.   Relevance: Diabetes is a prevalent chronic condition globally, and having\n",
        "accurate predictive models can aid in early detection and intervention.\n",
        "2.   Potential Impact: Predictive models derived from this dataset can potentially assist healthcare providers in identifying individuals at risk of diabetes and implementing preventive measures.\n",
        "\n",
        "3. Rich Feature Set: The dataset encompasses a variety of medical and demographic features, providing a comprehensive basis for building predictive models.\n",
        "\n",
        "What analysis(es) will you run? ▶\n",
        "\n",
        "1. Exploratory Data Analysis (EDA): Understand the distribution and relationships between variables, identify any patterns or correlations.\n",
        "\n",
        "2. Feature Engineering: Transform or derive new features if necessary to enhance predictive power.\n",
        "\n",
        "3. Model Building: Utilize machine learning algorithms to build predictive models for diabetes risk.\n",
        "\n",
        "4. Model Evaluation: Assess the performance of the models using appropriate evaluation metrics such as accuracy, precision, recall, and F1 score.\n",
        "\n",
        "**Hypotheses?** ▶\n",
        "\n",
        "1. Age Hypothesis: Older individuals are more likely to have diabetes compared to younger individuals.\n",
        "\n",
        "2. BMI Hypothesis: Higher BMI is positively correlated with diabetes risk.\n",
        "\n",
        "3. Gender Hypothesis: There may be gender-based differences in diabetes prevalence, with males or females having a higher risk.\n",
        "\n",
        "4. HbA1c Hypothesis: Higher HbA1c levels are associated with an increased likelihood of diabetes.\n",
        "\n",
        "5. Blood Glucose Level Hypothesis: Elevated fasting blood glucose levels are indicative of diabetes risk.\n"
      ],
      "metadata": {
        "id": "kzjq-mZXhPKw"
      }
    },
    {
      "cell_type": "code",
      "execution_count": 23,
      "metadata": {
        "application/vnd.databricks.v1+cell": {
          "cellMetadata": {
            "byteLimit": 2048000,
            "rowLimit": 10000
          },
          "inputWidgets": {},
          "nuid": "ee2aba6e-e221-498b-9bc3-b30a12ce2d00",
          "showTitle": false,
          "title": ""
        },
        "colab": {
          "base_uri": "https://localhost:8080/"
        },
        "id": "Y_WqDI9E8OFv",
        "outputId": "ed9a4c75-2098-4894-f3f3-cd073dfca10b"
      },
      "outputs": [
        {
          "output_type": "stream",
          "name": "stdout",
          "text": [
            "root\n",
            " |-- gender: string (nullable = true)\n",
            " |-- age: double (nullable = true)\n",
            " |-- hypertension: integer (nullable = true)\n",
            " |-- heart_disease: integer (nullable = true)\n",
            " |-- smoking_history: string (nullable = true)\n",
            " |-- bmi: double (nullable = true)\n",
            " |-- HbA1c_level: double (nullable = true)\n",
            " |-- blood_glucose_level: integer (nullable = true)\n",
            " |-- diabetes: integer (nullable = true)\n",
            "\n",
            "+------+----+------------+-------------+---------------+-----+-----------+-------------------+--------+\n",
            "|gender| age|hypertension|heart_disease|smoking_history|  bmi|HbA1c_level|blood_glucose_level|diabetes|\n",
            "+------+----+------------+-------------+---------------+-----+-----------+-------------------+--------+\n",
            "|Female|80.0|           0|            1|          never|25.19|        6.6|                140|       0|\n",
            "|Female|54.0|           0|            0|        No Info|27.32|        6.6|                 80|       0|\n",
            "|  Male|28.0|           0|            0|          never|27.32|        5.7|                158|       0|\n",
            "|Female|36.0|           0|            0|        current|23.45|        5.0|                155|       0|\n",
            "|  Male|76.0|           1|            1|        current|20.14|        4.8|                155|       0|\n",
            "+------+----+------------+-------------+---------------+-----+-----------+-------------------+--------+\n",
            "only showing top 5 rows\n",
            "\n"
          ]
        }
      ],
      "source": [
        "from pyspark.sql import SparkSession\n",
        "import pyspark.sql.functions as F\n",
        "import requests\n",
        "\n",
        "url = \"https://raw.githubusercontent.com/RushikeshGholap/DSCI_632_Project/main/diabetes_prediction_dataset.csv\"\n",
        "\n",
        "response = requests.get(url)\n",
        "with open(\"diabetes_prediction_dataset.csv\", \"wb\") as f:\n",
        "    f.write(response.content)\n",
        "\n",
        "diabetes_df = spark.read.csv(\"diabetes_prediction_dataset.csv\", header=True, inferSchema=True)\n",
        "\n",
        "diabetes_df.printSchema()\n",
        "diabetes_df.show(5)\n"
      ]
    },
    {
      "cell_type": "markdown",
      "source": [
        "Above is the dataset schema and  few sample rows.\n",
        "\n",
        "Schema details\n",
        "\n",
        "*  gender: String - Gender of the individual.\n",
        "\n",
        "*  age: Double - Age of the individual in years.\n",
        "\n",
        "*  hypertension: Integer - Presence (1) or absence (0) of hypertension.\n",
        "\n",
        "*  heart_disease: Integer - Presence (1) or absence (0) of heart disease.\n",
        "\n",
        "*  smoking_history: String - Smoking history categorized as \"never,\" \"current,\" or possibly \"No Info.\"\n",
        "\n",
        "*  bmi: Double - Body Mass Index (BMI) of the individual.\n",
        "\n",
        "*  HbA1c_level: Double - Hemoglobin A1c (HbA1c) level indicating long-term blood sugar control.\n",
        "\n",
        "*  blood_glucose_level: Integer - Fasting blood glucose level, a diagnostic criterion for diabetes.\n",
        "\n",
        "*  diabetes: Integer - Diabetes status, 1 for positive (diabetic) and 0 for negative (non-diabetic).\n",
        "\n"
      ],
      "metadata": {
        "id": "7-axQewbkKGv"
      }
    },
    {
      "cell_type": "markdown",
      "metadata": {
        "application/vnd.databricks.v1+cell": {
          "cellMetadata": {},
          "inputWidgets": {},
          "nuid": "343d57e2-66e2-49ac-add4-546816cdd99e",
          "showTitle": false,
          "title": ""
        },
        "id": "PJf7Kn_E-nsi"
      },
      "source": [
        "# Section 2: Clean the data\n",
        "\n",
        "10 points\n",
        "\n",
        "Not every dataset is going to be ready to use right away. Take steps to fix incorrect inputs, remove null values, and assign datatypes that fit each feature.\n",
        "\n",
        "### This section should include one or more of the following:\n",
        "- A count of rows before and after dropping data with null or incorrect values, including an explaination of why removing the rows was necessary in [markdown](https://www.markdownguide.org/cheat-sheet).\n",
        "- Renaming a column, adding a new one, or casting an existing one as a different datatype.\n",
        "- Remove punctuation marks, symbols, etc from the data, and convert all upper-case lettering to lower-case.\n",
        "- Remove or fix rows that have bad values/data."
      ]
    },
    {
      "cell_type": "markdown",
      "source": [
        "## **Analytics, insights and Hypotheses**\n",
        "\n",
        "\n",
        "\n"
      ],
      "metadata": {
        "id": "_Y_OE7jBnp9-"
      }
    },
    {
      "cell_type": "code",
      "execution_count": 27,
      "metadata": {
        "application/vnd.databricks.v1+cell": {
          "cellMetadata": {
            "byteLimit": 2048000,
            "rowLimit": 10000
          },
          "inputWidgets": {},
          "nuid": "29e83d44-3f78-42cc-82c9-347034ba8c44",
          "showTitle": false,
          "title": ""
        },
        "id": "AXLF1DHU8OuX",
        "colab": {
          "base_uri": "https://localhost:8080/",
          "height": 472
        },
        "outputId": "42b7f4b2-3fdf-4f94-a4b0-44bd27a10bdf"
      },
      "outputs": [
        {
          "output_type": "display_data",
          "data": {
            "text/plain": [
              "<Figure size 640x480 with 1 Axes>"
            ],
            "image/png": "[encoded data removed]"
          },
          "metadata": {}
        }
      ],
      "source": [
        "age_data = diabetes_df.select('age').rdd.flatMap(lambda x: x).histogram(10)\n",
        "\n",
        "import matplotlib.pyplot as plt\n",
        "\n",
        "bins, counts = age_data\n",
        "\n",
        "plt.hist(bins[:-1], bins=bins, weights=counts)\n",
        "plt.xlabel('Age')\n",
        "plt.ylabel('Count')\n",
        "plt.title('Histogram of Age')\n",
        "plt.show()\n"
      ]
    },
    {
      "cell_type": "markdown",
      "source": [
        "\n",
        "The histogram above show distribution that closely resembles a normal distribution, albeit with a slight left skew. Notably, there is a peak observed at the age of 80. This peak is likely a result of data collection processes wherein ages exceeding 80 were capped and represented as \"80+\". As a consequence, the distribution appears slightly peaked at the age of 80.\n"
      ],
      "metadata": {
        "id": "2idcePhxnmMv"
      }
    },
    {
      "cell_type": "code",
      "source": [
        "age_data_diabetes = diabetes_df.filter(diabetes_df.diabetes == 1).select('age').rdd.flatMap(lambda x: x).histogram(10)\n",
        "\n",
        "import matplotlib.pyplot as plt\n",
        "\n",
        "bins_diabetes, counts_diabetes = age_data_diabetes\n",
        "\n",
        "plt.hist(bins_diabetes[:-1], bins=bins_diabetes, weights=counts_diabetes)\n",
        "plt.xlabel('Age')\n",
        "plt.ylabel('Count')\n",
        "plt.title('Histogram of Age for Individuals with Diabetes')\n",
        "plt.show()"
      ],
      "metadata": {
        "colab": {
          "base_uri": "https://localhost:8080/",
          "height": 472
        },
        "id": "4D0lTAMS_RZf",
        "outputId": "95435d42-f146-428d-9bca-929c3877ae0f"
      },
      "execution_count": 28,
      "outputs": [
        {
          "output_type": "display_data",
          "data": {
            "text/plain": [
              "<Figure size 640x480 with 1 Axes>"
            ],
            "image/png": "[encoded data removed]"
          },
          "metadata": {}
        }
      ]
    },
    {
      "cell_type": "markdown",
      "source": [
        "*its clear as age increases, the likelihood of being diagnosed with diabetes also rises.\n",
        "\n",
        "\n",
        "\n",
        "\n",
        "\n"
      ],
      "metadata": {
        "id": "V8N3I19g_W9a"
      }
    },
    {
      "cell_type": "code",
      "execution_count": 25,
      "metadata": {
        "application/vnd.databricks.v1+cell": {
          "cellMetadata": {
            "byteLimit": 2048000,
            "rowLimit": 10000
          },
          "inputWidgets": {},
          "nuid": "d1e2ae8d-0090-4ce3-8762-28be741fdf5c",
          "showTitle": false,
          "title": ""
        },
        "colab": {
          "base_uri": "https://localhost:8080/"
        },
        "id": "O3LFkqK-gS-J",
        "outputId": "42215fba-d172-442a-a991-10df8ddecef2"
      },
      "outputs": [
        {
          "output_type": "stream",
          "name": "stdout",
          "text": [
            "+------+-----+\n",
            "|gender|count|\n",
            "+------+-----+\n",
            "|Female|58552|\n",
            "| Other|   18|\n",
            "|  Male|41430|\n",
            "+------+-----+\n",
            "\n",
            "+------------+-----+\n",
            "|hypertension|count|\n",
            "+------------+-----+\n",
            "|           1| 7485|\n",
            "|           0|92515|\n",
            "+------------+-----+\n",
            "\n",
            "+-------------+-----+\n",
            "|heart_disease|count|\n",
            "+-------------+-----+\n",
            "|            1| 3942|\n",
            "|            0|96058|\n",
            "+-------------+-----+\n",
            "\n",
            "+---------------+-----+\n",
            "|smoking_history|count|\n",
            "+---------------+-----+\n",
            "|    not current| 6447|\n",
            "|         former| 9352|\n",
            "|        No Info|35816|\n",
            "|        current| 9286|\n",
            "|          never|35095|\n",
            "|           ever| 4004|\n",
            "+---------------+-----+\n",
            "\n",
            "+--------+-----+\n",
            "|diabetes|count|\n",
            "+--------+-----+\n",
            "|       1| 8500|\n",
            "|       0|91500|\n",
            "+--------+-----+\n",
            "\n"
          ]
        }
      ],
      "source": [
        "zdiabetes_df.groupBy('gender').count().show()\n",
        "diabetes_df.groupBy('hypertension').count().show()\n",
        "diabetes_df.groupBy('heart_disease').count().show()\n",
        "diabetes_df.groupBy('smoking_history').count().show()\n",
        "diabetes_df.groupBy('diabetes').count().show()\n",
        "\n",
        "\n",
        "\n"
      ]
    },
    {
      "cell_type": "markdown",
      "source": [
        "Gender Distribution:\n",
        "*  The dataset consists of significantly more females (58,552) than males (41,430), with a small number categorized as \"Other\" (18).\n",
        "\n",
        "Hypertension and Heart Disease:\n",
        "* Most individuals in the dataset do not have hypertension (92,515) or heart disease (96,058), compared to those who do (hypertension: 7,485, heart disease: 3,942).\n",
        "\n",
        "Smoking History:\n",
        "* A considerable portion of individuals have missing smoking history information (\"No Info\": 35,816).\n",
        "Among those with known smoking history, the majority have never smoked (35,095), followed by former smokers (9,352) and current smokers (9,286).\n",
        "\n",
        "Diabetes Status:\n",
        "* The dataset is imbalanced, with significantly more non-diabetic individuals (91,500) than diabetic ones (8,500)."
      ],
      "metadata": {
        "id": "NQl9r4KbwQJR"
      }
    },
    {
      "cell_type": "code",
      "execution_count": 26,
      "metadata": {
        "application/vnd.databricks.v1+cell": {
          "cellMetadata": {
            "byteLimit": 2048000,
            "rowLimit": 10000
          },
          "inputWidgets": {},
          "nuid": "e5ad31bf-3b25-4bb0-94f1-3686875509c2",
          "showTitle": false,
          "title": ""
        },
        "colab": {
          "base_uri": "https://localhost:8080/",
          "height": 1000
        },
        "id": "tCqCLQwogS-K",
        "outputId": "87ce79c2-eb9f-4312-be54-d7efdae470a5"
      },
      "outputs": [
        {
          "output_type": "display_data",
          "data": {
            "text/plain": [
              "<Figure size 1200x600 with 2 Axes>"
            ],
            "image/png": "[encoded data removed]"
          },
          "metadata": {}
        },
        {
          "output_type": "display_data",
          "data": {
            "text/plain": [
              "<Figure size 1200x600 with 2 Axes>"
            ],
            "image/png": "[encoded data removed]"
          },
          "metadata": {}
        },
        {
          "output_type": "display_data",
          "data": {
            "text/plain": [
              "<Figure size 1200x600 with 2 Axes>"
            ],
            "image/png": "[encoded data removed]"
          },
          "metadata": {}
        }
      ],
      "source": [
        "import matplotlib.pyplot as plt\n",
        "import seaborn as sns\n",
        "integer_columns = ['bmi','HbA1c_level','blood_glucose_level']\n",
        "\n",
        "for column in integer_columns:\n",
        "    data = diabetes_df.select(column).toPandas()\n",
        "\n",
        "    plt.figure(figsize=(12, 6))\n",
        "    plt.subplot(1, 2, 1)\n",
        "    sns.histplot(data[column], kde=True)\n",
        "    plt.title(f\"Distribution of {column}\")\n",
        "\n",
        "    plt.subplot(1, 2, 2)\n",
        "    sns.boxplot(y=data[column])\n",
        "    plt.title(f\"Outliers in {column}\")\n",
        "\n",
        "    plt.show()\n"
      ]
    },
    {
      "cell_type": "markdown",
      "source": [
        "\n",
        "* BMI:\n",
        "The distribution of BMI appears to be approximately normal, with a slight skew likely due to the presence of individuals capped at the age of 80, causing a spike at that age.\n",
        "The interquartile range (IQR) of BMI spans from around 15 to 39 ages, indicating a wide range of BMI values among individuals in the dataset.\n",
        "\n",
        "* HbA1C:\n",
        "HbA1C levels are categorical with ordinal categories, showing higher counts at levels 6, 7, and 5.\n",
        "There are some outliers present in the data.\n",
        "The interquartile range (IQR) for HbA1C levels ranges from 5 to 6.6, indicating variability in long-term blood sugar control among individuals.\n",
        "\n",
        "* Blood Glucose Level:\n",
        "The distribution of blood glucose levels appears sporadic, with spikes observed at values around 90, 150, and 200.\n",
        "These spikes may indicate clusters of individuals with blood glucose levels concentrated around these values."
      ],
      "metadata": {
        "id": "p1FQbENRwnQV"
      }
    },
    {
      "cell_type": "code",
      "source": [
        "from pyspark.sql.functions import corr\n",
        "\n",
        "correlation = diabetes_df.corr('BMI', 'diabetes')\n",
        "\n",
        "print(\"Correlation between BMI and diabetes status:\", correlation)"
      ],
      "metadata": {
        "colab": {
          "base_uri": "https://localhost:8080/"
        },
        "id": "ZOvYBNaB_pZj",
        "outputId": "5255087e-a974-4833-d581-6b62ff7a5d8e"
      },
      "execution_count": 29,
      "outputs": [
        {
          "output_type": "stream",
          "name": "stdout",
          "text": [
            "Correlation between BMI and diabetes status: 0.2143574057995119\n"
          ]
        }
      ]
    },
    {
      "cell_type": "markdown",
      "source": [
        "The positive correlation coefficient indicates that there is a positive relationship between BMI and diabetes status.\n",
        "However, the correlation coefficient is relatively low, suggesting that the relationship between BMI and diabetes status is moderate."
      ],
      "metadata": {
        "id": "lR8ElIUU_3YV"
      }
    },
    {
      "cell_type": "code",
      "source": [
        "from pyspark.sql.functions import avg\n",
        "\n",
        "diabetes_count_by_gender = diabetes_df.groupBy('gender').agg((avg('diabetes')).alias('diabetes_proportion'))\n",
        "\n",
        "diabetes_count_by_gender.show()\n"
      ],
      "metadata": {
        "colab": {
          "base_uri": "https://localhost:8080/"
        },
        "id": "OlVexRUX_pXa",
        "outputId": "bce0a6dc-d9b9-4a75-ad4f-3a57543c862a"
      },
      "execution_count": 33,
      "outputs": [
        {
          "output_type": "stream",
          "name": "stdout",
          "text": [
            "+------+-------------------+\n",
            "|gender|diabetes_proportion|\n",
            "+------+-------------------+\n",
            "|Female| 0.0761886869790955|\n",
            "| Other|                0.0|\n",
            "|  Male|0.09748974173304369|\n",
            "+------+-------------------+\n",
            "\n"
          ]
        }
      ]
    },
    {
      "cell_type": "markdown",
      "source": [
        "Female: Approximately 7.62% of females in the dataset are diabetic patients.\n",
        "\n",
        "Male: Around 9.75% of males in the dataset are diabetic patients.\n",
        "\n",
        "Suggesting that males have a greater likelihood of being diagnosed with diabetes compared to females."
      ],
      "metadata": {
        "id": "AyUaqZJ9AvQt"
      }
    },
    {
      "cell_type": "code",
      "source": [
        "average_hba1c_diabetic = diabetes_df.filter(diabetes_df.diabetes == 1).agg(avg('HbA1c_level')).collect()[0][0]\n",
        "average_hba1c_non_diabetic = diabetes_df.filter(diabetes_df.diabetes == 0).agg(avg('HbA1c_level')).collect()[0][0]\n",
        "\n",
        "print(\" HbA1c level for diabetic :\", average_hba1c_diabetic)\n",
        "print(\" HbA1c level for non-diabetic :\", average_hba1c_non_diabetic)"
      ],
      "metadata": {
        "colab": {
          "base_uri": "https://localhost:8080/"
        },
        "id": "RaJvT0EBAsJl",
        "outputId": "bcddd47d-1ca6-410b-dfb7-7eeb422a8021"
      },
      "execution_count": 35,
      "outputs": [
        {
          "output_type": "stream",
          "name": "stdout",
          "text": [
            " HbA1c level for diabetic : 6.934952941176317\n",
            " HbA1c level for non-diabetic : 5.396760655736246\n"
          ]
        }
      ]
    },
    {
      "cell_type": "markdown",
      "source": [
        "This significantly higher average HbA1c level among diabetic individuals suggests a positive association between elevated HbA1c levels and the likelihood of diabetes."
      ],
      "metadata": {
        "id": "vsIlQjaSBi32"
      }
    },
    {
      "cell_type": "code",
      "source": [
        "average_glucose_diabetic = diabetes_df.filter(diabetes_df.diabetes == 1).agg(avg('blood_glucose_level')).collect()[0][0]\n",
        "average_glucose_non_diabetic = diabetes_df.filter(diabetes_df.diabetes == 0).agg(avg('blood_glucose_level')).collect()[0][0]\n",
        "\n",
        "print(\"blood glucose level for diabetic :\", average_glucose_diabetic)\n",
        "print(\"blood glucose level for non-diabetic :\", average_glucose_non_diabetic)"
      ],
      "metadata": {
        "colab": {
          "base_uri": "https://localhost:8080/"
        },
        "id": "fsHgb5Kz_pVB",
        "outputId": "eccff965-2c47-455b-c234-43c90aad55e6"
      },
      "execution_count": 36,
      "outputs": [
        {
          "output_type": "stream",
          "name": "stdout",
          "text": [
            "blood glucose level for diabetic : 194.09470588235294\n",
            "blood glucose level for non-diabetic : 132.85246994535518\n"
          ]
        }
      ]
    },
    {
      "cell_type": "markdown",
      "source": [
        "This significantly higher average fasting blood glucose level among diabetic individuals suggests a positive association between elevated blood glucose levels and the likelihood of diabetes."
      ],
      "metadata": {
        "id": "X3zoi5RHB6MH"
      }
    },
    {
      "cell_type": "code",
      "execution_count": 8,
      "metadata": {
        "application/vnd.databricks.v1+cell": {
          "cellMetadata": {
            "byteLimit": 2048000,
            "rowLimit": 10000
          },
          "inputWidgets": {},
          "nuid": "91634db8-7dd1-45ab-9b18-25c0a7069bbc",
          "showTitle": false,
          "title": ""
        },
        "colab": {
          "base_uri": "https://localhost:8080/"
        },
        "id": "IfrdNux5gS-K",
        "outputId": "43301431-ef55-4f06-d1df-84711a68756d"
      },
      "outputs": [
        {
          "output_type": "stream",
          "name": "stdout",
          "text": [
            "Number of nulls in column gender: 0\n",
            "Number of nulls in column age: 0\n",
            "Number of nulls in column hypertension: 0\n",
            "Number of nulls in column heart_disease: 0\n",
            "Number of nulls in column smoking_history: 0\n",
            "Number of nulls in column bmi: 0\n",
            "Number of nulls in column HbA1c_level: 0\n",
            "Number of nulls in column blood_glucose_level: 0\n",
            "Number of nulls in column diabetes: 0\n"
          ]
        }
      ],
      "source": [
        "from pyspark.sql.functions import col\n",
        "\n",
        "for column in diabetes_df.columns:\n",
        "    null_count = diabetes_df.filter(col(column).isNull()).count()\n",
        "    print(f\"Number of nulls in column {column}: {null_count}\")"
      ]
    },
    {
      "cell_type": "markdown",
      "source": [
        "NO null found in this dataset as its well preprocced before making it public."
      ],
      "metadata": {
        "id": "5jK-mxTCwpYi"
      }
    },
    {
      "cell_type": "code",
      "execution_count": 9,
      "metadata": {
        "application/vnd.databricks.v1+cell": {
          "cellMetadata": {
            "byteLimit": 2048000,
            "rowLimit": 10000
          },
          "inputWidgets": {},
          "nuid": "051f5d01-686e-4e4b-b90e-ddc2dade3e99",
          "showTitle": false,
          "title": ""
        },
        "colab": {
          "base_uri": "https://localhost:8080/"
        },
        "id": "CElmx-U6gS-K",
        "outputId": "3e15bb2e-844a-4409-d558-569af2447450"
      },
      "outputs": [
        {
          "output_type": "stream",
          "name": "stdout",
          "text": [
            "Row count after dropping nulls: 100000\n"
          ]
        }
      ],
      "source": [
        "cleaned_diabetes_df = diabetes_df.na.drop()\n",
        "\n",
        "cleaned_count = cleaned_diabetes_df.count()\n",
        "print(f\"Row count after dropping nulls: {cleaned_count}\")"
      ]
    },
    {
      "cell_type": "code",
      "execution_count": 10,
      "metadata": {
        "application/vnd.databricks.v1+cell": {
          "cellMetadata": {
            "byteLimit": 2048000,
            "rowLimit": 10000
          },
          "inputWidgets": {},
          "nuid": "83d4b52d-f9ea-405d-ac8f-d8603906a60e",
          "showTitle": false,
          "title": ""
        },
        "id": "AH8WdyeZgS-L"
      },
      "outputs": [],
      "source": [
        "corrected_df = diabetes_df.filter((col(\"age\") > 0) & (col(\"age\") < 120))\n"
      ]
    },
    {
      "cell_type": "markdown",
      "metadata": {
        "application/vnd.databricks.v1+cell": {
          "cellMetadata": {},
          "inputWidgets": {},
          "nuid": "fd422d4c-0fea-446a-831c-b670f8bb32cc",
          "showTitle": false,
          "title": ""
        },
        "id": "7vn1ZLLh8WhW"
      },
      "source": [
        "# Section 3: Transform the clean data\n",
        "\n",
        "10 points\n",
        "\n",
        "Once you have clean data, start to prepare it to fit your analysis tools. This might mean using custom code to normalize certain values, joining supplemental datasets, and/or preparing it for machine learning.\n",
        "\n",
        "### This section should include one or more of the following:\n",
        "- Write a UDF to perform a function, then use it to add a new column to your data. Explain why in [markdown](https://www.markdownguide.org/cheat-sheet)\n",
        "- Join an outside data source. (It can be one you've prepared alongside the primary source you're using, as long as you link it)\n",
        "- Split the data into train/test sets\n",
        "- Create vectors for relavent features\n",
        "- One-hot encode catagorical variables"
      ]
    },
    {
      "cell_type": "code",
      "execution_count": 11,
      "metadata": {
        "application/vnd.databricks.v1+cell": {
          "cellMetadata": {
            "byteLimit": 2048000,
            "rowLimit": 10000
          },
          "inputWidgets": {},
          "nuid": "9632d4db-7792-49f8-9726-c5b13782645b",
          "showTitle": false,
          "title": ""
        },
        "id": "m7l0I341gS-L"
      },
      "outputs": [],
      "source": [
        "from pyspark.sql.functions import udf\n",
        "from pyspark.sql.types import StringType\n",
        "\n",
        "def bmi_category(bmi):\n",
        "    if bmi < 18.5:\n",
        "        return 'Underweight'\n",
        "    elif 18.5 <= bmi < 25:\n",
        "        return 'Normal weight'\n",
        "    elif 25 <= bmi < 30:\n",
        "        return 'Overweight'\n",
        "    else:\n",
        "        return 'Obese'\n",
        "\n",
        "bmi_category_udf = udf(bmi_category, StringType())\n",
        "diabetes_df = diabetes_df.withColumn('BMICategory', bmi_category_udf('BMI'))\n",
        "\n"
      ]
    },
    {
      "cell_type": "markdown",
      "source": [
        "A UDF is created to categorize BMI values into four categories as per medical specs for these classes: Underweight, Normal weight, Overweight, and Obese. In hope that these medical defined classes can imporve final classification\n",
        "\n",
        "The UDF is applied to the 'BMI' column to create a new column 'BMICategory' in the DataFrame. We will use this col in training the models."
      ],
      "metadata": {
        "id": "sGCGHw0S6czx"
      }
    },
    {
      "cell_type": "code",
      "execution_count": 12,
      "metadata": {
        "application/vnd.databricks.v1+cell": {
          "cellMetadata": {
            "byteLimit": 2048000,
            "rowLimit": 10000
          },
          "inputWidgets": {},
          "nuid": "4cc92809-166f-47a6-a7c1-0ede991c39b5",
          "showTitle": false,
          "title": ""
        },
        "id": "683qm1FagS-L"
      },
      "outputs": [],
      "source": [
        "from pyspark.sql.functions import udf\n",
        "from pyspark.sql.types import IntegerType\n",
        "\n",
        "smoking_history_map = {\n",
        "    'not current': 3,\n",
        "    'former': 2,\n",
        "    'No Info': 0,\n",
        "    'current': 4,\n",
        "    'never': -2,\n",
        "    'ever': -1\n",
        "}\n",
        "\n",
        "def smoking_history_weight(smoking_status):\n",
        "    return smoking_history_map.get(smoking_status, None)\n",
        "\n",
        "smoking_history_weight_udf = udf(smoking_history_weight, IntegerType())\n",
        "\n",
        "diabetes_df = diabetes_df.withColumn('SmokingHistoryWeight', smoking_history_weight_udf('smoking_history'))\n",
        "\n"
      ]
    },
    {
      "cell_type": "markdown",
      "source": [
        "Similarly we are using UDF to label different smoking classes into ordinal number based on intution as eg: if someone never smoked would be -2 and someone is current smoker with 4 as highest . Here polarity does not make sense but order is important as ML model will understand correlation whether its positive or negative."
      ],
      "metadata": {
        "id": "y4kaQlTe7ACo"
      }
    },
    {
      "cell_type": "code",
      "execution_count": 13,
      "metadata": {
        "application/vnd.databricks.v1+cell": {
          "cellMetadata": {
            "byteLimit": 2048000,
            "rowLimit": 10000
          },
          "inputWidgets": {},
          "nuid": "422f5563-7542-4fdc-aac8-ce30fb322328",
          "showTitle": false,
          "title": ""
        },
        "id": "XBrY78zKgS-M"
      },
      "outputs": [],
      "source": [
        "from pyspark.ml.feature import StringIndexer, OneHotEncoder\n",
        "from pyspark.ml import Pipeline\n",
        "\n",
        "\n",
        "columns_to_ohe = ['BMICategory','gender']\n",
        "\n",
        "stages = []\n",
        "\n",
        "for categoricalCol in columns_to_ohe:\n",
        "    stringIndexer = StringIndexer(inputCol=categoricalCol, outputCol=categoricalCol + \"Index\")\n",
        "    oneHotEncoder = OneHotEncoder(inputCols=[stringIndexer.getOutputCol()], outputCols=[categoricalCol + \"Vec\"])\n",
        "    stages += [stringIndexer, oneHotEncoder]\n",
        "\n",
        "pipeline = Pipeline(stages=stages)\n",
        "\n",
        "pipelineModel = pipeline.fit(diabetes_df)\n",
        "\n",
        "diabetes_df_transformed = pipelineModel.transform(diabetes_df)\n",
        "\n",
        "\n",
        "\n"
      ]
    },
    {
      "cell_type": "markdown",
      "source": [
        "* Preparing categorical columns 'BMICategory' and 'gender' for machine learning by encoding them using StringIndexer and OneHotEncoder.\n",
        "* This creates a Pipeline consisting of stages for each categorical column's encoding, fits the pipeline to the data, and transforms the DataFrame to produce the encoded features."
      ],
      "metadata": {
        "id": "hy9syEKq8CKQ"
      }
    },
    {
      "cell_type": "code",
      "execution_count": 14,
      "metadata": {
        "application/vnd.databricks.v1+cell": {
          "cellMetadata": {
            "byteLimit": 2048000,
            "rowLimit": 10000
          },
          "inputWidgets": {},
          "nuid": "d4eb2f09-5d73-43e8-b143-60136afdee41",
          "showTitle": false,
          "title": ""
        },
        "id": "EdVBEeMUgS-M"
      },
      "outputs": [],
      "source": [
        "train_df, test_df = diabetes_df_transformed.randomSplit([0.8, 0.2], seed=13)\n"
      ]
    },
    {
      "cell_type": "markdown",
      "source": [
        "We  randomly split our data into 80:20 ratio for train:test data, to keep randomization consitent using seed as 13"
      ],
      "metadata": {
        "id": "BbsByvXB8O5M"
      }
    },
    {
      "cell_type": "markdown",
      "metadata": {
        "application/vnd.databricks.v1+cell": {
          "cellMetadata": {},
          "inputWidgets": {},
          "nuid": "942f3623-059c-4eed-860c-327b8f32cbed",
          "showTitle": false,
          "title": ""
        },
        "id": "nV7baCwkIDc7"
      },
      "source": [
        "# Section 4: Show your analysis of the data\n",
        "\n",
        "10 points\n",
        "\n",
        "This is where the science happens. Use your data to show some kind of insight, and how you got there. Make the reader understand why it's important, and how they can get the same conslusion, and/or what would need to change to reach a different one.\n",
        "\n",
        "### This section should include one or more of the following:\n",
        "- Fit the data to a model\n",
        "- Show the outcome of clustering, regression, and/or classification algorithms.\n",
        " - We used several in class, but you can use whatever fits your needs for this assignment\n",
        "- Reccomend a product/item\n",
        "- Use a SQL query to filter results\n"
      ]
    },
    {
      "cell_type": "code",
      "execution_count": 16,
      "metadata": {
        "application/vnd.databricks.v1+cell": {
          "cellMetadata": {
            "byteLimit": 2048000,
            "rowLimit": 10000
          },
          "inputWidgets": {},
          "nuid": "8888b061-5b2f-4f71-bb34-e727c7ddf8b7",
          "showTitle": false,
          "title": ""
        },
        "id": "buHJ1SEJHvMK"
      },
      "outputs": [],
      "source": [
        "from pyspark.ml.feature import VectorAssembler\n",
        "\n",
        "inputCols = [\n",
        "    'age', 'hypertension', 'heart_disease', 'bmi', 'HbA1c_level',\n",
        "    'blood_glucose_level', 'SmokingHistoryWeight', 'BMICategoryVec', 'genderVec'\n",
        "]\n",
        "assembler = VectorAssembler(inputCols=inputCols, outputCol=\"features\")\n",
        "\n",
        "train_df = assembler.transform(train_df).select(\"features\", \"diabetes\")\n",
        "test_df = assembler.transform(test_df).select(\"features\", \"diabetes\")\n"
      ]
    },
    {
      "cell_type": "markdown",
      "source": [
        "- Utilizing VectorAssembler from PySpark ML, the code combines selected features into a single vector column named \"features\".\n",
        "- It applies the assembler to both the training and test DataFrames, retaining only the \"features\" and \"diabetes\" columns for further analysis."
      ],
      "metadata": {
        "id": "9ffgCH2-8iIP"
      }
    },
    {
      "cell_type": "code",
      "execution_count": 17,
      "metadata": {
        "application/vnd.databricks.v1+cell": {
          "cellMetadata": {
            "byteLimit": 2048000,
            "rowLimit": 10000
          },
          "inputWidgets": {},
          "nuid": "425342b5-7bb4-4096-b211-f36c82b78160",
          "showTitle": false,
          "title": ""
        },
        "id": "MPWkF1xNKVS6",
        "colab": {
          "base_uri": "https://localhost:8080/"
        },
        "outputId": "eafa501b-a9a2-4c88-eae1-09b7d449abc3"
      },
      "outputs": [
        {
          "output_type": "stream",
          "name": "stdout",
          "text": [
            "Random Forest Performance:\n",
            "    Accuracy: 0.9707290039800494\n",
            "    F1 Score: 0.9680207974231904\n",
            "\n",
            "Gradient-Boosted Trees Performance:\n",
            "    Accuracy: 0.9707290039800494\n",
            "    F1 Score: 0.9680207974231904\n",
            "\n",
            "Logistic Regression Performance:\n",
            "    Accuracy: 0.9591415184644063\n",
            "    F1 Score: 0.9562141822821415\n",
            "\n",
            "Decision Tree Performance:\n",
            "    Accuracy: 0.9707290039800494\n",
            "    F1 Score: 0.9680207974231904\n",
            "\n",
            "Linear SVC Performance:\n",
            "    Accuracy: 0.9600483651569348\n",
            "    F1 Score: 0.9560848450822838\n",
            "\n"
          ]
        }
      ],
      "source": [
        "from pyspark.ml.classification import RandomForestClassifier, GBTClassifier, LogisticRegression, DecisionTreeClassifier, LinearSVC\n",
        "from pyspark.ml.evaluation import MulticlassClassificationEvaluator\n",
        "\n",
        "models = {\n",
        "    \"Random Forest\": RandomForestClassifier(featuresCol=\"features\", labelCol=\"diabetes\", numTrees=10),\n",
        "    \"Gradient-Boosted Trees\": GBTClassifier(featuresCol=\"features\", labelCol=\"diabetes\"),\n",
        "    \"Logistic Regression\": LogisticRegression(featuresCol=\"features\", labelCol=\"diabetes\"),\n",
        "    \"Decision Tree\": DecisionTreeClassifier(featuresCol=\"features\", labelCol=\"diabetes\"),\n",
        "    \"Linear SVC\": LinearSVC(featuresCol=\"features\", labelCol=\"diabetes\"),\n",
        "}\n",
        "\n",
        "accuracy_evaluator = MulticlassClassificationEvaluator(labelCol=\"diabetes\", predictionCol=\"prediction\", metricName=\"accuracy\")\n",
        "f1_evaluator = MulticlassClassificationEvaluator(labelCol=\"diabetes\", predictionCol=\"prediction\", metricName=\"f1\")\n",
        "\n",
        "for model_name, model in models.items():\n",
        "    model_fit = model.fit(train_df)\n",
        "\n",
        "    predictions = model_fit.transform(test_df)\n",
        "\n",
        "    accuracy = accuracy_evaluator.evaluate(predictions)\n",
        "    f1_score = f1_evaluator.evaluate(predictions)\n",
        "\n",
        "    print(f\"{model_name} Performance:\")\n",
        "    print(f\"    Accuracy: {accuracy}\")\n",
        "    print(f\"    F1 Score: {f1_score}\\n\")\n"
      ]
    },
    {
      "cell_type": "markdown",
      "source": [
        "- using classification models including Random Forest, Gradient-Boosted Trees, Logistic Regression, Decision Tree, and Linear SVC. Tried to include most of available models in PySpark, hope this give baseline results. More python based models would be roburst like CatBoost, lightLGB and XGBoost.\n",
        "- iterating over each model, fits it to the training data, makes predictions on the test data, and evaluates performance metrics such as accuracy and F1 score using MulticlassClassificationEvaluator.\n",
        "- Performance metrics for each model, including accuracy and F1 score\n",
        "\n",
        "Overall, all models performed well, with Random Forest, Gradient-Boosted Trees, and Decision Tree showing the highest accuracy and F1 score, followed closely by Logistic Regression and Linear SVC."
      ],
      "metadata": {
        "id": "0KrYfxrm8sOU"
      }
    },
    {
      "cell_type": "markdown",
      "source": [
        "This classification of diabetes using machine learning models can offer numerous benefits to humanity:\n",
        "\n",
        "- **Early Detection and Diagnosis:** Accurately predicting diabetes risk enables early identification of high-risk individuals, facilitating timely interventions such as lifestyle modifications and medical treatments. This early detection can help prevent or delay the onset of diabetes and its complications, improving patient outcomes and reducing healthcare costs.\n",
        "\n",
        "- **Personalized Treatment Plans:** ML classification models enable personalized diabetes treatment plans by identifying individual risk factors. Tailored strategies improve condition management and enhance patient outcomes.\n",
        "\n",
        "- **Preventive Healthcare Programs:** ML models help healthcare organizations pinpoint high-risk populations for diabetes, guiding targeted preventive programs. This data-driven approach reduces diabetes prevalence and fosters healthy lifestyle adoption within communities."
      ],
      "metadata": {
        "id": "_PHaEYVx8sGf"
      }
    },
    {
      "cell_type": "code",
      "source": [],
      "metadata": {
        "id": "REzl3WsV9zyt"
      },
      "execution_count": null,
      "outputs": []
    }
  ],
  "metadata": {
    "application/vnd.databricks.v1+notebook": {
      "dashboards": [],
      "language": "python",
      "notebookMetadata": {
        "pythonIndentUnit": 4
      },
      "notebookName": "DSCI_632_Final_RG (1)",
      "widgets": {}
    },
    "colab": {
      "provenance": []
    },
    "kernelspec": {
      "display_name": "Python 3",
      "name": "python3"
    },
    "language_info": {
      "name": "python"
    }
  },
  "nbformat": 4,
  "nbformat_minor": 0
}
